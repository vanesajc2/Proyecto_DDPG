{
  "nbformat": 4,
  "nbformat_minor": 0,
  "metadata": {
    "colab": {
      "provenance": [],
      "gpuType": "T4",
      "name": "ddpg_-mountaincarcountinuous_v0_rev01.ipynb",
      "include_colab_link": true
    },
    "kernelspec": {
      "name": "python3",
      "display_name": "Python 3"
    },
    "language_info": {
      "name": "python"
    },
    "accelerator": "GPU"
  },
  "cells": [
    {
      "cell_type": "markdown",
      "metadata": {
        "id": "view-in-github",
        "colab_type": "text"
      },
      "source": [
        "<a href=\"https://colab.research.google.com/github/vanesajc2/Proyecto_DDPG/blob/main/ddpg__mountaincarcountinuous_v0_rev01.ipynb\" target=\"_parent\"><img src=\"https://colab.research.google.com/assets/colab-badge.svg\" alt=\"Open In Colab\"/></a>"
      ]
    },
    {
      "cell_type": "markdown",
      "source": [
        "**Problema Mountain Car Countinuous resuelto con el algoritmo DDPG**\n",
        "\n",
        "Ejemplo utilizando el entorno MountainCarContinuous-v0 de OpenAI Gym. Este es un ejercicio basado en el paper de Lillicrap (2015) basado en el codigo de Kyunghwan Kim.\n",
        "\n",
        "![MountainContinuous](https://gymnasium.farama.org/_images/mountain_car_continuous.gif)\n"
      ],
      "metadata": {
        "id": "825v-Ztfl8zz"
      }
    },
    {
      "cell_type": "code",
      "source": [],
      "metadata": {
        "id": "eDiTmeP0Y-wu"
      },
      "execution_count": null,
      "outputs": []
    },
    {
      "cell_type": "code",
      "execution_count": null,
      "metadata": {
        "colab": {
          "base_uri": "https://localhost:8080/"
        },
        "id": "eWHmVnbWv7sS",
        "outputId": "5f2a1bb1-c58c-4936-fd9b-96b6cea69713"
      },
      "outputs": [
        {
          "output_type": "stream",
          "name": "stdout",
          "text": [
            "Requirement already satisfied: gymnasium==1.0.0 in /usr/local/lib/python3.11/dist-packages (1.0.0)\n",
            "Requirement already satisfied: numpy>=1.21.0 in /usr/local/lib/python3.11/dist-packages (from gymnasium==1.0.0) (1.26.4)\n",
            "Requirement already satisfied: cloudpickle>=1.2.0 in /usr/local/lib/python3.11/dist-packages (from gymnasium==1.0.0) (3.1.1)\n",
            "Requirement already satisfied: typing-extensions>=4.3.0 in /usr/local/lib/python3.11/dist-packages (from gymnasium==1.0.0) (4.12.2)\n",
            "Requirement already satisfied: farama-notifications>=0.0.1 in /usr/local/lib/python3.11/dist-packages (from gymnasium==1.0.0) (0.0.4)\n"
          ]
        }
      ],
      "source": [
        "import sys\n",
        "\n",
        "IN_COLAB = \"google.colab\" in sys.modules\n",
        "\n",
        "if IN_COLAB:\n",
        "    !pip install gymnasium==1.0.0"
      ]
    },
    {
      "cell_type": "markdown",
      "source": [
        "T. P. Lillicrap et al., \"Control continuo con aprendizaje de refuerzo profundo\". Preimpresión de arXiv arXiv:1509.02971, 2015.\n",
        "\n",
        "El algoritmo Deep Q Network (DQN) (Mnih et al., 2013; 2015) combina los avances en el aprendizaje profundo con el aprendizaje de refuerzo. Sin embargo, si bien DQN resuelve problemas con espacios de observación de alta dimensión, solo puede manejar espacios de acción discretos y de baja dimensión debido al uso de políticas voraces. Para el aprendizaje en espacios de acción continuos y de alta dimensión, los autores combinan el enfoque actor-crítico con conocimientos del éxito reciente de DQN. Deep DPG (DDPG) se basa en el algoritmo de gradiente de política determinista (DPG) (Silver et al., 2014)."
      ],
      "metadata": {
        "id": "Omh6Z5g6ajd-"
      }
    },
    {
      "cell_type": "markdown",
      "source": [
        "### Deterministic policy gradient\n",
        "El algoritmo DPG mantiene una función de actor parametrizada\n",
        "$\\mu(s|\\theta^{\\mu})$ que especifica la política actual mediante la asignación determinista de estados a una acción específica.\n",
        "\n",
        "El crítico $Q(s, a)$ se aprende utilizando la ecuación de Bellman como en el aprendizaje Q. El actor se actualiza siguiendo la aplicación de la regla de la cadena al retorno esperado de la distribución inicial  $J$ con respecto a los parámetros del actor.\n",
        "\n",
        "$$\n",
        "\\begin{align*}\n",
        "\\nabla_{\\theta^{\\mu}}J &\\approx E_{s_t\\sim\\rho^\\beta} [\\nabla_{\\theta^{\\mu}} Q(s,a|\\theta^Q)|_{s=s_t, a=\\mu(s_t|\\theta^\\mu)}] \\\\\n",
        "&= E_{s_t\\sim\\rho^\\beta} [\\nabla_{a} Q(s,a|\\theta^Q)|_{s=s_t, a=\\mu(s_t)} \\nabla_{\\theta^{\\mu}} \\mu(s|\\theta^\\mu)|_{s=s_t}]\n",
        "\\end{align*}\n",
        "$$\n",
        "\n",
        "\n",
        "### Buffer de reproducción\n",
        "Un desafío al usar redes neuronales para el aprendizaje de refuerzo es que la mayoría de los algoritmos de optimización suponen que **las muestras están distribuidas de manera independiente e idéntica**. Cuando las muestras se generan a partir de la exploración secuencial en un entorno, esta suposición ya no se cumple. Los autores utilizaron un **buffer de reproducción** para abordar estos problemas. Las transiciones se muestrearon del entorno de acuerdo con la política de exploración y la tupla $(s_t, a_t, r_t, s_{t+1})$ que se almacenó en el buffer de reproducción. En cada paso de tiempo, el actor y el crítico se actualizan mediante el muestreo de un minibatch de manera uniforme del buffer. Esto permite beneficiarse del aprendizaje a través de un conjunto de transiciones **no correlacionadas**.\n",
        "\n",
        "\n",
        "### Actualización suave de la red objetivo\n",
        "Dado que la red $(Q(s,a|\\theta^Q)$ que se está actualizando también se utiliza para calcular el valor objetivo, la actualización de Q es propensa a divergencias. Para evitar esto, los autores utilizan **la red objetivo** como DQN, pero modificada para actor-crítico y utilizando **actualizaciones suaves de objetivo**. Las redes objetivo se crean copiando las redes de actor y crítico, $Q'(s,a|\\theta^{Q'})$ y $\\mu'(s|\\theta^{\\mu`})$ respectivamente, que se utilizan para calcular los valores objetivo. Los pesos de estas redes objetivo se actualizan luego haciendo que rastreen lentamente las redes aprendidas:\n",
        "\n",
        "$$\n",
        "\\theta' \\leftarrow \\tau \\theta + (1 - \\tau)\\theta' \\ \\ \\ {with} \\ \\tau \\ll 1.\n",
        "$$\n",
        "\n",
        "Mejora en gran medida la estabilidad del aprendizaje.\n",
        "\n",
        "\n",
        "### Exploración del espacio de acción continua\n",
        "Una ventaja de las políticas fuera de línea Los algoritmos como DDPG permiten tratar el problema de la exploración independientemente del algoritmo de aprendizaje. Los autores construyen una política de exploración $\\mu'$ añadiendo ruido muestreado de un proceso de ruido $\\mathcal{N}$ a la política del actor\n",
        "\n",
        "$$\n",
        "\\mu'(s_t) = \\mu(s_t|\\theta^{\\mu}_t) + \\mathcal{N}\n",
        "$$\n",
        "\n",
        "$\\mathcal{N}$ puede elegirse para adaptarse al entorno. Los autores utilizaron el **proceso Ornstein-Uhlenbeck** para generar una exploración correlacionada temporalmente.\n"
      ],
      "metadata": {
        "id": "QmLSQ85TgCdW"
      }
    },
    {
      "cell_type": "markdown",
      "source": [
        "# Importar modulos"
      ],
      "metadata": {
        "id": "cI4IIQx5gFrg"
      }
    },
    {
      "cell_type": "code",
      "source": [
        "import copy\n",
        "import random\n",
        "from typing import Dict, List, Tuple\n",
        "\n",
        "import gymnasium as gym\n",
        "import matplotlib.pyplot as plt\n",
        "import numpy as np\n",
        "import torch\n",
        "import torch.nn as nn\n",
        "import torch.nn.functional as F\n",
        "import torch.optim as optim\n",
        "from IPython.display import clear_output"
      ],
      "metadata": {
        "id": "2PzQbVjKwBLx"
      },
      "execution_count": null,
      "outputs": []
    },
    {
      "cell_type": "markdown",
      "source": [
        "## Buffer de reproducción\n",
        "Normalmente, las personas implementan buffers de reproducción con una de las siguientes tres estructuras de datos:\n",
        "\n",
        "- collections.deque\n",
        "- list\n",
        "- numpy.ndarray\n",
        "\n",
        "**deque** es muy fácil de manejar una vez que inicializa su longitud máxima (p. ej., deque(maxlen=buffer_size)). Sin embargo, la operación de indexación de deque se vuelve terriblemente lenta a medida que crece porque es una [lista internamente doblemente enlazada](https://wiki.python.org/moin/TimeComplexity#collections.deque). Por otro lado, **list** es una matriz, por lo que es relativamente más rápida que deque cuando muestrea lotes en cada paso. Su costo amortizado de Obtener elemento es [O(1)](https://wiki.python.org/moin/TimeComplexity#list).\n",
        "\n",
        "Por último, pero no menos importante, veamos **numpy.ndarray**. numpy.ndarray es incluso más rápido que list debido al hecho de que es [una matriz homogénea de elementos de tamaño fijo](https://docs.scipy.org/doc/numpy/reference/generated/numpy.ndarray.html#numpy.ndarray), por lo que puede obtener los beneficios de la [localidad de referencia](https://en.wikipedia.org/wiki/Locality_of_reference), mientras que list es una matriz de punteros a objetos, incluso cuando todos ellos son del mismo tipo.\n",
        "\n",
        "Aquí, vamos a implementar un búfer de reproducción utilizando numpy.ndarray.\n",
        "\n",
        "Reference:\n",
        "- [OpenAI spinning-up](https://github.com/openai/spinningup/blob/master/spinup/algos/sac/sac.py#L10)\n",
        "- [rainbow-is-all-you-need](https://render.githubusercontent.com/view/ipynb?commit=032d11277cf2436853478a69ca5a4aba03202598&enc_url=68747470733a2f2f7261772e67697468756275736572636f6e74656e742e636f6d2f437572742d5061726b2f7261696e626f772d69732d616c6c2d796f752d6e6565642f303332643131323737636632343336383533343738613639636135613461626130333230323539382f30312e64716e2e6970796e62&nwo=Curt-Park%2Frainbow-is-all-you-need&path=01.dqn.ipynb&repository_id=191133946&repository_type=Repository#Replay-buffer)"
      ],
      "metadata": {
        "id": "Oql_-ICHjabh"
      }
    },
    {
      "cell_type": "code",
      "source": [
        "class ReplayBuffer:\n",
        "    \"\"\"A simple numpy replay buffer.\"\"\"\n",
        "\n",
        "    def __init__(self, obs_dim: int, act_dim: int, size: int, batch_size: int = 32):\n",
        "        \"\"\"Initializate.\"\"\"\n",
        "        self.obs_buf = np.zeros([size, obs_dim], dtype=np.float32)\n",
        "        self.next_obs_buf = np.zeros([size, obs_dim], dtype=np.float32)\n",
        "        self.acts_buf = np.zeros([size, act_dim], dtype=np.float32)\n",
        "        self.rews_buf = np.zeros([size], dtype=np.float32)\n",
        "        self.done_buf = np.zeros([size], dtype=np.float32)\n",
        "        self.max_size, self.batch_size = size, batch_size\n",
        "        self.ptr, self.size = 0, 0\n",
        "\n",
        "    def store(\n",
        "        self,\n",
        "        obs: np.ndarray,\n",
        "        act: np.ndarray,\n",
        "        rew: float,\n",
        "        next_obs: np.ndarray,\n",
        "        done: bool,\n",
        "    ):\n",
        "        \"\"\"Store the transition in buffer.\"\"\"\n",
        "        self.obs_buf[self.ptr] = obs\n",
        "        self.next_obs_buf[self.ptr] = next_obs\n",
        "        self.acts_buf[self.ptr] = act\n",
        "        self.rews_buf[self.ptr] = rew\n",
        "        self.done_buf[self.ptr] = done\n",
        "        self.ptr = (self.ptr + 1) % self.max_size\n",
        "        self.size = min(self.size + 1, self.max_size)\n",
        "\n",
        "    def sample_batch(self) -> Dict[str, np.ndarray]:\n",
        "        \"\"\"Randomly sample a batch of experiences from memory.\"\"\"\n",
        "        idxs = np.random.choice(self.size, size=self.batch_size, replace=False)\n",
        "        return dict(\n",
        "            obs=self.obs_buf[idxs],\n",
        "            next_obs=self.next_obs_buf[idxs],\n",
        "            acts=self.acts_buf[idxs],\n",
        "            rews=self.rews_buf[idxs],\n",
        "            done=self.done_buf[idxs],\n",
        "        )\n",
        "\n",
        "    def __len__(self) -> int:\n",
        "        return self.size"
      ],
      "metadata": {
        "id": "l_ocBKW7wbjp"
      },
      "execution_count": null,
      "outputs": []
    },
    {
      "cell_type": "markdown",
      "source": [
        "## Ruido de OU\n",
        "El proceso **Ornstein-Uhlenbeck** genera una exploración correlacionada temporalmente y se enfrenta de manera eficaz a los problemas de control físico de la inercia.\n",
        "\n",
        "$$\n",
        "dx_t = \\theta(\\mu - x_t) dt + \\sigma dW_t\n",
        "$$\n",
        "\n",
        "Referencia:\n",
        "- [Udacity github](https://github.com/udacity/deep-reinforcement-learning/blob/master/ddpg-pendulum/ddpg_agent.py)\n",
        "- [Wiki](https://en.wikipedia.org/wiki/Ornstein%E2%80%93Uhlenbeck_process)"
      ],
      "metadata": {
        "id": "ucY0SFrPxMn2"
      }
    },
    {
      "cell_type": "code",
      "source": [
        "class OUNoise:\n",
        "    \"\"\"Ornstein-Uhlenbeck process.\n",
        "    Taken from Udacity deep-reinforcement-learning github repository:\n",
        "    https://github.com/udacity/deep-reinforcement-learning/blob/master/\n",
        "    ddpg-pendulum/ddpg_agent.py\n",
        "    \"\"\"\n",
        "\n",
        "    def __init__(self, size: int, mu: float = 0.0, theta: float = 0.15, sigma: float = 0.2):\n",
        "        \"\"\"Initialize parameters and noise process.\"\"\"\n",
        "        self.state = np.float64(0.0)\n",
        "        self.mu = mu * np.ones(size)\n",
        "        self.theta = theta\n",
        "        self.sigma = sigma\n",
        "        self.reset()\n",
        "\n",
        "    def reset(self):\n",
        "        \"\"\"Reset the internal state (= noise) to mean (mu).\"\"\"\n",
        "        self.state = copy.copy(self.mu)\n",
        "\n",
        "    def sample(self) -> np.ndarray:\n",
        "        \"\"\"Update internal state and return it as a noise sample.\"\"\"\n",
        "        x = self.state\n",
        "        dx = self.theta * (self.mu - x) + self.sigma * np.array(\n",
        "            [random.random() for _ in range(len(x))]\n",
        "        )\n",
        "        self.state = x + dx\n",
        "        return self.state"
      ],
      "metadata": {
        "id": "mZHFRSEYwbpk"
      },
      "execution_count": null,
      "outputs": []
    },
    {
      "cell_type": "markdown",
      "source": [
        "# **Red**\n",
        "\n",
        "Vamos a utilizar dos redes separadas para el actor y el crítico.\n",
        "\n",
        "La red del actor tiene tres capas completamente conectadas y tres funciones de no linealidad, ReLU para las capas ocultas y tanh para la capa de salida.\n",
        "\n",
        "Por otro lado, la red del crítico tiene tres capas completamente conectadas, pero utiliza dos funciones de activación para las capas ocultas ReLU. Además, los tamaños de entrada de la red del crítico son la suma de los tamaños de los estados y los tamaños de las acciones.\n",
        "\n",
        "Una cosa a tener en cuenta es que inicializamos los pesos y sesgos de la capa final para que se distribuyan de manera uniforme."
      ],
      "metadata": {
        "id": "ObitCDZ-04GW"
      }
    },
    {
      "cell_type": "code",
      "source": [
        "HIDDEN_LAYERS_ACTOR = 128\n",
        "HIDDEN_LAYERS_CRITIC = 256\n",
        "class Actor(nn.Module):\n",
        "    def __init__(self, in_dim: int, out_dim: int, init_w: float = 3e-3):\n",
        "        \"\"\"Initialize.\"\"\"\n",
        "        super(Actor, self).__init__()\n",
        "\n",
        "        self.bn1 = nn.LayerNorm(HIDDEN_LAYERS_ACTOR)\n",
        "        self.bn2 = nn.LayerNorm(HIDDEN_LAYERS_ACTOR)\n",
        "\n",
        "        self.hidden1 = nn.Linear(in_dim, 128)\n",
        "        self.hidden2 = nn.Linear(128, 128)\n",
        "        self.out = nn.Linear(128, out_dim)\n",
        "\n",
        "        self.out.weight.data.uniform_(-init_w, init_w)\n",
        "        self.out.bias.data.uniform_(-init_w, init_w)\n",
        "\n",
        "    def forward(self, state: torch.Tensor) -> torch.Tensor:\n",
        "        \"\"\"Forward method implementation.\"\"\"\n",
        "        x = F.relu (self.bn1(self.hidden1(state)))#\n",
        "        x = F.relu(self.bn2(self.hidden2(x)))#\n",
        "\n",
        "       # x = F.relu (self.hidden1(state))#\n",
        "        #x = F.relu(self.hidden2(x))#\n",
        "        action = self.out(x).tanh()\n",
        "\n",
        "        return action\n",
        "\n",
        "\n",
        "class Critic(nn.Module):\n",
        "    def __init__(\n",
        "        self,\n",
        "        in_dim: int,\n",
        "        init_w: float = 3e-3,\n",
        "    ):\n",
        "        \"\"\"Initialize.\"\"\"\n",
        "        super(Critic, self).__init__()\n",
        "\n",
        "        self.bn1 = nn.BatchNorm1d(HIDDEN_LAYERS_CRITIC)\n",
        "        self.bn2 = nn.BatchNorm1d(HIDDEN_LAYERS_CRITIC)\n",
        "\n",
        "        self.hidden1 = nn.Linear(in_dim, 256)\n",
        "        self.hidden2 = nn.Linear(256, 256)\n",
        "        self.out = nn.Linear(256, 1)\n",
        "\n",
        "        self.out.weight.data.uniform_(-init_w, init_w)\n",
        "        self.out.bias.data.uniform_(-init_w, init_w)\n",
        "\n",
        "    def forward(self, state: torch.Tensor, action: torch.Tensor) -> torch.Tensor:\n",
        "        \"\"\"Forward method implementation.\"\"\"\n",
        "        x = torch.cat((state, action), dim=-1)\n",
        "        x = F.relu(self.bn1(self.hidden1(x)))\n",
        "        x = F.relu(self.bn2(self.hidden2(x)))\n",
        "\n",
        "       # x = F.relu(self.hidden1(x))\n",
        "       # x = F.relu(self.hidden2(x))\n",
        "        value = self.out(x)\n",
        "\n",
        "        return value"
      ],
      "metadata": {
        "id": "fZ3wj4BFwbu3"
      },
      "execution_count": null,
      "outputs": []
    },
    {
      "cell_type": "markdown",
      "source": [
        "## Agente DDPG\n",
        "## A continuación se incluye un resumen de la clase DDPGAgent.\n",
        "\n",
        "| Método | Nota |\n",
        "|--- |--- |\n",
        "|select_action | selecciona una acción del estado de entrada. |\n",
        "|step | realiza una acción y devuelve la respuesta del entorno. |\n",
        "|update_model | actualiza el modelo por descenso de gradiente. |\n",
        "|train | entrena al agente durante num_frames. |\n",
        "|test | prueba al agente (1 episodio). |\n",
        "|\\_target_soft_update| actualización suave del modelo local al modelo de destino.|\n",
        "|\\_plot | traza el progreso del entrenamiento. |"
      ],
      "metadata": {
        "id": "CNUe0vEl_NtU"
      }
    },
    {
      "cell_type": "code",
      "source": [
        "class DDPGAgent:\n",
        "    \"\"\"DDPGAgent interacting with environment.\n",
        "\n",
        "    Attribute:\n",
        "        env (gym.Env): openAI Gym environment\n",
        "        actor (nn.Module): target actor model to select actions\n",
        "        actor_target (nn.Module): actor model to predict next actions\n",
        "        actor_optimizer (Optimizer): optimizer for training actor\n",
        "        critic (nn.Module): critic model to predict state values\n",
        "        critic_target (nn.Module): target critic model to predict state values\n",
        "        critic_optimizer (Optimizer): optimizer for training critic\n",
        "        memory (ReplayBuffer): replay memory to store transitions\n",
        "        batch_size (int): batch size for sampling\n",
        "        gamma (float): discount factor\n",
        "        tau (float): parameter for soft target update\n",
        "        initial_random_steps (int): initial random action steps\n",
        "        noise (OUNoise): noise generator for exploration\n",
        "        device (torch.device): cpu / gpu\n",
        "        transition (list): temporary storage for the recent transition\n",
        "        total_step (int): total step numbers\n",
        "        is_test (bool): flag to show the current mode (train / test)\n",
        "        seed (int): random seed\n",
        "    \"\"\"\n",
        "\n",
        "    def __init__(\n",
        "        self,\n",
        "        env: gym.Env,\n",
        "        memory_size: int,\n",
        "        batch_size: int,\n",
        "        ou_noise_theta: float,\n",
        "        ou_noise_sigma: float,\n",
        "        gamma: float = 0.99,\n",
        "        tau: float = 5e-3,\n",
        "        initial_random_steps: int = 1e4,\n",
        "        seed: int = 777,\n",
        "    ):\n",
        "        \"\"\"Initialize.\"\"\"\n",
        "        obs_dim = env.observation_space.shape[0]\n",
        "        action_dim =env.action_space.shape[0]\n",
        "\n",
        "        self.env = env\n",
        "        self.memory = ReplayBuffer(obs_dim, action_dim, memory_size, batch_size)\n",
        "        self.batch_size = batch_size\n",
        "        self.gamma = gamma\n",
        "        self.tau = tau\n",
        "        self.initial_random_steps = initial_random_steps\n",
        "        self.seed = seed\n",
        "\n",
        "        # noise\n",
        "        self.noise = OUNoise(\n",
        "            action_dim,\n",
        "            theta=ou_noise_theta,\n",
        "            sigma=ou_noise_sigma,\n",
        "        )\n",
        "\n",
        "        # device: cpu / gpu\n",
        "        self.device = torch.device(\"cuda\" if torch.cuda.is_available() else \"cpu\")\n",
        "        print(self.device)\n",
        "\n",
        "        # networks\n",
        "        self.actor = Actor(obs_dim, action_dim).to(self.device)\n",
        "        self.actor_target = Actor(obs_dim, action_dim).to(self.device)\n",
        "        self.actor_target.load_state_dict(self.actor.state_dict())\n",
        "\n",
        "        self.critic = Critic(obs_dim + action_dim).to(self.device)\n",
        "        self.critic_target = Critic(obs_dim + action_dim).to(self.device)\n",
        "        self.critic_target.load_state_dict(self.critic.state_dict())\n",
        "\n",
        "        # optimizer\n",
        "        self.actor_optimizer = optim.Adam(self.actor.parameters(), lr=3e-4)\n",
        "        self.critic_optimizer = optim.Adam(self.critic.parameters(), lr=1e-3)\n",
        "\n",
        "        # transition to store in memory\n",
        "        self.transition = list()\n",
        "\n",
        "        # total steps count\n",
        "        self.total_step = 0\n",
        "\n",
        "        # mode: train / test\n",
        "        self.is_test = False\n",
        "\n",
        "    def select_action(self, state: np.ndarray) -> np.ndarray:\n",
        "        \"\"\"Select an action from the input state.\"\"\"\n",
        "        # if initial random action should be conducted\n",
        "        if self.total_step < self.initial_random_steps and not self.is_test:\n",
        "            selected_action = self.env.action_space.sample()\n",
        "        else:\n",
        "            selected_action = (\n",
        "                self.actor(torch.FloatTensor(state).to(self.device)).detach().cpu().numpy()\n",
        "            )\n",
        "\n",
        "        # add noise for exploration during training\n",
        "        if not self.is_test:\n",
        "            noise = self.noise.sample()\n",
        "            selected_action = np.clip(selected_action + noise, -1.0, 1.0)\n",
        "\n",
        "        self.transition = [state, selected_action]\n",
        "\n",
        "        return selected_action\n",
        "\n",
        "    def step(self, action: np.ndarray) -> Tuple[np.ndarray, np.float64, bool]:\n",
        "        \"\"\"Take an action and return the response of the env.\"\"\"\n",
        "        next_state, reward, terminated, truncated, _ = self.env.step(action)\n",
        "        done = terminated or truncated\n",
        "\n",
        "        if not self.is_test:\n",
        "            self.transition += [reward, next_state, done]\n",
        "            self.memory.store(*self.transition)\n",
        "\n",
        "        return next_state, reward, done\n",
        "\n",
        "    def update_model(self) -> torch.Tensor:\n",
        "        \"\"\"Update the model by gradient descent.\"\"\"\n",
        "        device = self.device  # for shortening the following lines\n",
        "\n",
        "        samples = self.memory.sample_batch()\n",
        "        state = torch.FloatTensor(samples[\"obs\"]).to(device)\n",
        "        next_state = torch.FloatTensor(samples[\"next_obs\"]).to(device)\n",
        "        action = torch.FloatTensor(samples[\"acts\"]).to(device)\n",
        "        reward = torch.FloatTensor(samples[\"rews\"].reshape(-1, 1)).to(device)\n",
        "        done = torch.FloatTensor(samples[\"done\"].reshape(-1, 1)).to(device)\n",
        "\n",
        "        masks = 1 - done\n",
        "        next_action = self.actor_target(next_state)\n",
        "        next_value = self.critic_target(next_state, next_action)\n",
        "        curr_return = reward + self.gamma * next_value * masks\n",
        "\n",
        "        # train critic\n",
        "        values = self.critic(state, action)\n",
        "        critic_loss = F.mse_loss(values, curr_return)\n",
        "\n",
        "        self.critic_optimizer.zero_grad()\n",
        "        critic_loss.backward()\n",
        "        self.critic_optimizer.step()\n",
        "\n",
        "        # train actor\n",
        "        actor_loss = -self.critic(state, self.actor(state)).mean()\n",
        "\n",
        "        self.actor_optimizer.zero_grad()\n",
        "        actor_loss.backward()\n",
        "        self.actor_optimizer.step()\n",
        "\n",
        "        # target update\n",
        "        self._target_soft_update()\n",
        "\n",
        "        return actor_loss.data, critic_loss.data\n",
        "\n",
        "    def train(self, num_frames: int, plotting_interval: int = 200):\n",
        "        \"\"\"Train the agent.\"\"\"\n",
        "        self.is_test = False\n",
        "\n",
        "        state, _ = self.env.reset(seed=self.seed)\n",
        "        actor_losses = []\n",
        "        critic_losses = []\n",
        "        scores = []\n",
        "        score = 0\n",
        "\n",
        "        for self.total_step in range(1, num_frames + 1):\n",
        "            action = self.select_action(state)\n",
        "            next_state, reward, done = self.step(action)\n",
        "\n",
        "            state = next_state\n",
        "            score += reward\n",
        "\n",
        "            # if episode ends\n",
        "            if done:\n",
        "                state, _ = self.env.reset(seed=self.seed)\n",
        "                scores.append(score)\n",
        "                score = 0\n",
        "\n",
        "           # Stop condition\n",
        "            mean_s=np.mean(scores[-10:])\n",
        "            if mean_s >= 70.0:\n",
        "                break\n",
        "\n",
        "\n",
        "            # if training is ready\n",
        "            if len(self.memory) >= self.batch_size and self.total_step > self.initial_random_steps:\n",
        "                actor_loss, critic_loss = self.update_model()\n",
        "                actor_losses.append(actor_loss.cpu().numpy())\n",
        "                critic_losses.append(critic_loss.cpu().numpy())\n",
        "\n",
        "            # plotting\n",
        "            if self.total_step % plotting_interval == 0:\n",
        "                self._plot(\n",
        "                    self.total_step,\n",
        "                    scores,\n",
        "                    actor_losses,\n",
        "                    critic_losses,\n",
        "                )\n",
        "\n",
        "        self.env.close()\n",
        "\n",
        "    def test(self, video_folder: str):\n",
        "        \"\"\"Test the agent.\"\"\"\n",
        "        self.is_test = True\n",
        "\n",
        "        tmp_env = self.env\n",
        "        self.env = gym.wrappers.RecordVideo(self.env, video_folder=video_folder)\n",
        "\n",
        "        state, _ = self.env.reset(seed=self.seed)\n",
        "        done = False\n",
        "        score = 0\n",
        "\n",
        "        while not done:\n",
        "            action = self.select_action(state)\n",
        "            next_state, reward, done = self.step(action)\n",
        "\n",
        "            state = next_state\n",
        "            score += reward\n",
        "\n",
        "        print(\"score: \", score)\n",
        "        self.env.close()\n",
        "\n",
        "        self.env = tmp_env\n",
        "\n",
        "    def _target_soft_update(self):\n",
        "        \"\"\"Soft-update: target = tau*local + (1-tau)*target.\"\"\"\n",
        "        tau = self.tau\n",
        "\n",
        "        for t_param, l_param in zip(self.actor_target.parameters(), self.actor.parameters()):\n",
        "            t_param.data.copy_(tau * l_param.data + (1.0 - tau) * t_param.data)\n",
        "\n",
        "        for t_param, l_param in zip(self.critic_target.parameters(), self.critic.parameters()):\n",
        "            t_param.data.copy_(tau * l_param.data + (1.0 - tau) * t_param.data)\n",
        "\n",
        "    def _plot(\n",
        "        self,\n",
        "        frame_idx: int,\n",
        "        scores: List[float],\n",
        "        actor_losses: List[float],\n",
        "        critic_losses: List[float],\n",
        "    ):\n",
        "        \"\"\"Plot the training progresses.\"\"\"\n",
        "\n",
        "        def subplot(loc: int, title: str, values: List[float]):\n",
        "            plt.subplot(loc)\n",
        "            plt.title(title)\n",
        "            plt.plot(values)\n",
        "\n",
        "        subplot_params = [\n",
        "            (131, f\"frame {frame_idx}. score: {np.mean(scores[-10:])}\", scores),\n",
        "            (132, \"actor_loss\", actor_losses),\n",
        "            (133, \"critic_loss\", critic_losses),\n",
        "        ]\n",
        "\n",
        "        clear_output(True)\n",
        "        plt.figure(figsize=(30, 5))\n",
        "        for loc, title, values in subplot_params:\n",
        "            subplot(loc, title, values)\n",
        "        plt.show()"
      ],
      "metadata": {
        "id": "uyKTJnmgwb1H"
      },
      "execution_count": null,
      "outputs": []
    },
    {
      "cell_type": "markdown",
      "source": [
        "## Entorno\n",
        "*ActionNormalizer* es una clase contenedora de acciones para normalizar los valores de las acciones dentro del rango (-1, 1). Gracias a esta clase, podemos hacer que el agente simplemente seleccione valores de acción dentro del rango centrado en cero (-1, 1)."
      ],
      "metadata": {
        "id": "RfDFXbrPVbRQ"
      }
    },
    {
      "cell_type": "code",
      "source": [
        "class ActionNormalizer(gym.ActionWrapper):\n",
        "    \"\"\"Rescale and relocate the actions.\"\"\"\n",
        "\n",
        "    def action(self, action: np.ndarray) -> np.ndarray:\n",
        "        \"\"\"Change the range (-1, 1) to (low, high).\"\"\"\n",
        "        low = self.action_space.low\n",
        "        high = self.action_space.high\n",
        "\n",
        "        scale_factor = (high - low) / 2\n",
        "        reloc_factor = high - scale_factor\n",
        "\n",
        "        action = action * scale_factor + reloc_factor\n",
        "        action = np.clip(action, low, high)\n",
        "\n",
        "        return action\n",
        "\n",
        "    def reverse_action(self, action: np.ndarray) -> np.ndarray:\n",
        "        \"\"\"Change the range (low, high) to (-1, 1).\"\"\"\n",
        "        low = self.action_space.low\n",
        "        high = self.action_space.high\n",
        "\n",
        "        scale_factor = (high - low) / 2\n",
        "        reloc_factor = high - scale_factor\n",
        "\n",
        "        action = (action - reloc_factor) / scale_factor\n",
        "        action = np.clip(action, -1.0, 1.0)\n",
        "\n",
        "        return action"
      ],
      "metadata": {
        "id": "yROblQoXwb4-"
      },
      "execution_count": null,
      "outputs": []
    },
    {
      "cell_type": "markdown",
      "source": [
        "Se puede ver [el link](https://gymnasium.farama.org/environments/classic_control/mountain_car_continuous/) de MountainCarContinuous-v0 desde el repositorio de Gym.\n"
      ],
      "metadata": {
        "id": "5WnsnAsqXsG9"
      }
    },
    {
      "cell_type": "code",
      "source": [
        "env = gym.make(\"MountainCarContinuous-v0\", render_mode=\"rgb_array\")\n",
        "#env = ActionNormalizer(env)"
      ],
      "metadata": {
        "id": "JASBHm0odh5h"
      },
      "execution_count": null,
      "outputs": []
    },
    {
      "cell_type": "markdown",
      "source": [
        "En este caso se utiliza BatchNorm1d (https://pytorch.org/docs/stable/generated/torch.nn.BatchNorm1d.html) la cual aplica normalización por lotes sobre una entrada 2D o 3D. (Incluido tanto en Actor y Critic)"
      ],
      "metadata": {
        "id": "bXzmv9K-oCss"
      }
    },
    {
      "cell_type": "code",
      "source": [
        "state_dim = env.observation_space.shape[0]\n",
        "action_dim = env.action_space.shape[0]\n",
        "max_action = float(env.action_space.high[0])\n",
        "state_dim, action_dim, max_action"
      ],
      "metadata": {
        "colab": {
          "base_uri": "https://localhost:8080/"
        },
        "id": "sxvDe_su3uA4",
        "outputId": "7e03c0bf-c9d0-4ae4-a70d-8fd888518da0"
      },
      "execution_count": null,
      "outputs": [
        {
          "output_type": "execute_result",
          "data": {
            "text/plain": [
              "(2, 1, 1.0)"
            ]
          },
          "metadata": {},
          "execution_count": 9
        }
      ]
    },
    {
      "cell_type": "markdown",
      "source": [
        "Establecer semilla aleatoria"
      ],
      "metadata": {
        "id": "BL1QMRB-YK8g"
      }
    },
    {
      "cell_type": "code",
      "source": [
        "def seed_torch(seed):\n",
        "    torch.manual_seed(seed)\n",
        "    if torch.backends.cudnn.enabled:\n",
        "        torch.backends.cudnn.benchmark = False\n",
        "        torch.backends.cudnn.deterministic = True\n",
        "\n",
        "\n",
        "seed = 777\n",
        "random.seed(seed)\n",
        "np.random.seed(seed)\n",
        "seed_torch(seed)"
      ],
      "metadata": {
        "id": "HTCmewkdwcCM"
      },
      "execution_count": null,
      "outputs": []
    },
    {
      "cell_type": "code",
      "source": [
        "# parameters\n",
        "num_frames =100000#\n",
        "memory_size = 100000\n",
        "batch_size = 128\n",
        "ou_noise_theta = 1.0\n",
        "ou_noise_sigma = 0.1\n",
        "initial_random_steps = 10000\n",
        "\n",
        "agent = DDPGAgent(\n",
        "    env,\n",
        "    memory_size,\n",
        "    batch_size,\n",
        "    ou_noise_theta,\n",
        "    ou_noise_sigma,\n",
        "    initial_random_steps=initial_random_steps,\n",
        "    seed=seed,\n",
        ")"
      ],
      "metadata": {
        "colab": {
          "base_uri": "https://localhost:8080/"
        },
        "id": "l3PkXJcRwcGr",
        "outputId": "1c074570-adc1-4d76-d817-0972e6ec56a6"
      },
      "execution_count": null,
      "outputs": [
        {
          "output_type": "stream",
          "name": "stdout",
          "text": [
            "cuda\n"
          ]
        }
      ]
    },
    {
      "cell_type": "markdown",
      "source": [
        "Train"
      ],
      "metadata": {
        "id": "XWTJDhosxig-"
      }
    },
    {
      "cell_type": "code",
      "source": [
        "agent.train(num_frames)#"
      ],
      "metadata": {
        "colab": {
          "base_uri": "https://localhost:8080/",
          "height": 337
        },
        "id": "ciHo7pvswBPh",
        "outputId": "d41469ad-d0fa-482b-a442-beeb3e8474b7"
      },
      "execution_count": null,
      "outputs": [
        {
          "output_type": "display_data",
          "data": {
            "text/plain": [
              "<Figure size 3000x500 with 3 Axes>"
            ],
            "image/png": "[encoded data removed]"
          },
          "metadata": {}
        }
      ]
    },
    {
      "cell_type": "markdown",
      "source": [
        "Test"
      ],
      "metadata": {
        "id": "uIIZn34TxuE6"
      }
    },
    {
      "cell_type": "code",
      "source": [
        "# test\n",
        "video_folder = \"videos/ddpg\"\n",
        "agent.test(video_folder=video_folder)"
      ],
      "metadata": {
        "colab": {
          "base_uri": "https://localhost:8080/"
        },
        "id": "0lzDrvpwwBXN",
        "outputId": "eae0f19b-7a62-4f2e-a317-ee04f11410e5"
      },
      "execution_count": null,
      "outputs": [
        {
          "output_type": "stream",
          "name": "stdout",
          "text": [
            "score:  93.26992540617682\n"
          ]
        }
      ]
    },
    {
      "cell_type": "markdown",
      "source": [
        "Render"
      ],
      "metadata": {
        "id": "57uvxUIix1m3"
      }
    },
    {
      "cell_type": "code",
      "source": [
        "import base64\n",
        "import glob\n",
        "import io\n",
        "import os\n",
        "\n",
        "from IPython.display import HTML, display\n",
        "\n",
        "\n",
        "def ipython_show_video(path: str) -> None:\n",
        "    \"\"\"Show a video at `path` within IPython Notebook.\"\"\"\n",
        "    if not os.path.isfile(path):\n",
        "        raise NameError(\"Cannot access: {}\".format(path))\n",
        "\n",
        "    video = io.open(path, \"r+b\").read()\n",
        "    encoded = base64.b64encode(video)\n",
        "\n",
        "    display(\n",
        "        HTML(\n",
        "            data=\"\"\"\n",
        "        <video width=\"320\" height=\"240\" alt=\"test\" controls>\n",
        "        <source src=\"data:video/mp4;base64,{0}\" type=\"video/mp4\"/>\n",
        "        </video>\n",
        "        \"\"\".format(\n",
        "                encoded.decode(\"ascii\")\n",
        "            )\n",
        "        )\n",
        "    )\n",
        "\n",
        "\n",
        "def show_latest_video(video_folder: str) -> str:\n",
        "    \"\"\"Show the most recently recorded video from video folder.\"\"\"\n",
        "    list_of_files = glob.glob(os.path.join(video_folder, \"*.mp4\"))#\"*.mp4\"\n",
        "    latest_file = max(list_of_files, key=os.path.getctime)\n",
        "    ipython_show_video(latest_file)\n",
        "    return latest_file\n",
        "\n",
        "\n",
        "latest_file = show_latest_video(video_folder=video_folder)\n",
        "print(\"Played:\", latest_file)"
      ],
      "metadata": {
        "colab": {
          "base_uri": "https://localhost:8080/",
          "height": 278
        },
        "id": "oPBRPU_TwBcW",
        "outputId": "4cf84003-2c83-4df9-ca49-72dc6564306b"
      },
      "execution_count": null,
      "outputs": [
        {
          "output_type": "display_data",
          "data": {
            "text/plain": [
              "<IPython.core.display.HTML object>"
            ],
            "text/html": [
              "\n",
              "        <video width=\"320\" height=\"240\" alt=\"test\" controls>\n",
              "        <source src=\"data:video/mp4;base64,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\" type=\"video/mp4\"/>\n",
              "        </video>\n",
              "        "
            ]
          },
          "metadata": {}
        },
        {
          "output_type": "stream",
          "name": "stdout",
          "text": [
            "Played: videos/ddpg/rl-video-episode-0.mp4\n"
          ]
        }
      ]
    }
  ]
}
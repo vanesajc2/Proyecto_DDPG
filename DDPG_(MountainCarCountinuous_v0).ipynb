{
  "nbformat": 4,
  "nbformat_minor": 0,
  "metadata": {
    "colab": {
      "provenance": [],
      "gpuType": "T4",
      "include_colab_link": true
    },
    "kernelspec": {
      "name": "python3",
      "display_name": "Python 3"
    },
    "language_info": {
      "name": "python"
    },
    "accelerator": "GPU"
  },
  "cells": [
    {
      "cell_type": "markdown",
      "metadata": {
        "id": "view-in-github",
        "colab_type": "text"
      },
      "source": [
        "<a href=\"https://colab.research.google.com/github/vanesajc2/Proyecto_DDPG/blob/main/DDPG_(MountainCarCountinuous_v0).ipynb\" target=\"_parent\"><img src=\"https://colab.research.google.com/assets/colab-badge.svg\" alt=\"Open In Colab\"/></a>"
      ]
    },
    {
      "cell_type": "markdown",
      "source": [
        "**Problema Mountain Car Countinuous resuelto con el algoritmo DDPG**\n",
        "\n",
        "Ejemplo utilizando el entorno MountainCarContinuous-v0 de OpenAI Gym. Este es un ejercicio basado en el paper de Lillicrap (2015) basado en el codigo de Kyunghwan Kim.\n",
        "\n",
        "![MountainContinuous](https://gymnasium.farama.org/_images/mountain_car_continuous.gif)\n"
      ],
      "metadata": {
        "id": "825v-Ztfl8zz"
      }
    },
    {
      "cell_type": "code",
      "execution_count": null,
      "metadata": {
        "colab": {
          "base_uri": "https://localhost:8080/"
        },
        "id": "eWHmVnbWv7sS",
        "outputId": "35f4daf4-0cb7-4a3f-f10c-e989a5d78615"
      },
      "outputs": [
        {
          "output_type": "stream",
          "name": "stdout",
          "text": [
            "Requirement already satisfied: gymnasium==1.0.0 in /usr/local/lib/python3.11/dist-packages (1.0.0)\n",
            "Requirement already satisfied: numpy>=1.21.0 in /usr/local/lib/python3.11/dist-packages (from gymnasium==1.0.0) (1.26.4)\n",
            "Requirement already satisfied: cloudpickle>=1.2.0 in /usr/local/lib/python3.11/dist-packages (from gymnasium==1.0.0) (3.1.1)\n",
            "Requirement already satisfied: typing-extensions>=4.3.0 in /usr/local/lib/python3.11/dist-packages (from gymnasium==1.0.0) (4.12.2)\n",
            "Requirement already satisfied: farama-notifications>=0.0.1 in /usr/local/lib/python3.11/dist-packages (from gymnasium==1.0.0) (0.0.4)\n"
          ]
        }
      ],
      "source": [
        "import sys\n",
        "\n",
        "IN_COLAB = \"google.colab\" in sys.modules\n",
        "\n",
        "if IN_COLAB:\n",
        "    !pip install gymnasium==1.0.0"
      ]
    },
    {
      "cell_type": "markdown",
      "source": [
        "T. P. Lillicrap et al., \"Control continuo con aprendizaje de refuerzo profundo\". Preimpresión de arXiv arXiv:1509.02971, 2015.\n",
        "\n",
        "El algoritmo Deep Q Network (DQN) (Mnih et al., 2013; 2015) combina los avances en el aprendizaje profundo con el aprendizaje de refuerzo. Sin embargo, si bien DQN resuelve problemas con espacios de observación de alta dimensión, solo puede manejar espacios de acción discretos y de baja dimensión debido al uso de políticas voraces. Para el aprendizaje en espacios de acción continuos y de alta dimensión, los autores combinan el enfoque actor-crítico con conocimientos del éxito reciente de DQN. Deep DPG (DDPG) se basa en el algoritmo de gradiente de política determinista (DPG) (Silver et al., 2014)."
      ],
      "metadata": {
        "id": "Omh6Z5g6ajd-"
      }
    },
    {
      "cell_type": "markdown",
      "source": [
        "### Deterministic policy gradient\n",
        "El algoritmo DPG mantiene una función de actor parametrizada\n",
        "$\\mu(s|\\theta^{\\mu})$ que especifica la política actual mediante la asignación determinista de estados a una acción específica.\n",
        "\n",
        "El crítico $Q(s, a)$ se aprende utilizando la ecuación de Bellman como en el aprendizaje Q. El actor se actualiza siguiendo la aplicación de la regla de la cadena al retorno esperado de la distribución inicial  $J$ con respecto a los parámetros del actor.\n",
        "\n",
        "$$\n",
        "\\begin{align*}\n",
        "\\nabla_{\\theta^{\\mu}}J &\\approx E_{s_t\\sim\\rho^\\beta} [\\nabla_{\\theta^{\\mu}} Q(s,a|\\theta^Q)|_{s=s_t, a=\\mu(s_t|\\theta^\\mu)}] \\\\\n",
        "&= E_{s_t\\sim\\rho^\\beta} [\\nabla_{a} Q(s,a|\\theta^Q)|_{s=s_t, a=\\mu(s_t)} \\nabla_{\\theta^{\\mu}} \\mu(s|\\theta^\\mu)|_{s=s_t}]\n",
        "\\end{align*}\n",
        "$$\n",
        "\n",
        "\n",
        "### Buffer de reproducción\n",
        "Un desafío al usar redes neuronales para el aprendizaje de refuerzo es que la mayoría de los algoritmos de optimización suponen que **las muestras están distribuidas de manera independiente e idéntica**. Cuando las muestras se generan a partir de la exploración secuencial en un entorno, esta suposición ya no se cumple. Los autores utilizaron un **buffer de reproducción** para abordar estos problemas. Las transiciones se muestrearon del entorno de acuerdo con la política de exploración y la tupla $(s_t, a_t, r_t, s_{t+1})$ que se almacenó en el buffer de reproducción. En cada paso de tiempo, el actor y el crítico se actualizan mediante el muestreo de un minibatch de manera uniforme del buffer. Esto permite beneficiarse del aprendizaje a través de un conjunto de transiciones **no correlacionadas**.\n",
        "\n",
        "\n",
        "### Actualización suave de la red objetivo\n",
        "Dado que la red $(Q(s,a|\\theta^Q)$ que se está actualizando también se utiliza para calcular el valor objetivo, la actualización de Q es propensa a divergencias. Para evitar esto, los autores utilizan **la red objetivo** como DQN, pero modificada para actor-crítico y utilizando **actualizaciones suaves de objetivo**. Las redes objetivo se crean copiando las redes de actor y crítico, $Q'(s,a|\\theta^{Q'})$ y $\\mu'(s|\\theta^{\\mu`})$ respectivamente, que se utilizan para calcular los valores objetivo. Los pesos de estas redes objetivo se actualizan luego haciendo que rastreen lentamente las redes aprendidas:\n",
        "\n",
        "$$\n",
        "\\theta' \\leftarrow \\tau \\theta + (1 - \\tau)\\theta' \\ \\ \\ {with} \\ \\tau \\ll 1.\n",
        "$$\n",
        "\n",
        "Mejora en gran medida la estabilidad del aprendizaje.\n",
        "\n",
        "\n",
        "### Exploración del espacio de acción continua\n",
        "Una ventaja de las políticas fuera de línea Los algoritmos como DDPG permiten tratar el problema de la exploración independientemente del algoritmo de aprendizaje. Los autores construyen una política de exploración $\\mu'$ añadiendo ruido muestreado de un proceso de ruido $\\mathcal{N}$ a la política del actor\n",
        "\n",
        "$$\n",
        "\\mu'(s_t) = \\mu(s_t|\\theta^{\\mu}_t) + \\mathcal{N}\n",
        "$$\n",
        "\n",
        "$\\mathcal{N}$ puede elegirse para adaptarse al entorno. Los autores utilizaron el **proceso Ornstein-Uhlenbeck** para generar una exploración correlacionada temporalmente.\n"
      ],
      "metadata": {
        "id": "QmLSQ85TgCdW"
      }
    },
    {
      "cell_type": "markdown",
      "source": [
        "# Importar modulos"
      ],
      "metadata": {
        "id": "cI4IIQx5gFrg"
      }
    },
    {
      "cell_type": "code",
      "source": [
        "import copy\n",
        "import random\n",
        "from typing import Dict, List, Tuple\n",
        "\n",
        "import gymnasium as gym\n",
        "import matplotlib.pyplot as plt\n",
        "import numpy as np\n",
        "import torch\n",
        "import torch.nn as nn\n",
        "import torch.nn.functional as F\n",
        "import torch.optim as optim\n",
        "from IPython.display import clear_output"
      ],
      "metadata": {
        "id": "2PzQbVjKwBLx"
      },
      "execution_count": null,
      "outputs": []
    },
    {
      "cell_type": "markdown",
      "source": [
        "## Buffer de reproducción\n",
        "Normalmente, las personas implementan buffers de reproducción con una de las siguientes tres estructuras de datos:\n",
        "\n",
        "- collections.deque\n",
        "- list\n",
        "- numpy.ndarray\n",
        "\n",
        "**deque** es muy fácil de manejar una vez que inicializa su longitud máxima (p. ej., deque(maxlen=buffer_size)). Sin embargo, la operación de indexación de deque se vuelve terriblemente lenta a medida que crece porque es una [lista internamente doblemente enlazada](https://wiki.python.org/moin/TimeComplexity#collections.deque). Por otro lado, **list** es una matriz, por lo que es relativamente más rápida que deque cuando muestrea lotes en cada paso. Su costo amortizado de Obtener elemento es [O(1)](https://wiki.python.org/moin/TimeComplexity#list).\n",
        "\n",
        "Por último, pero no menos importante, veamos **numpy.ndarray**. numpy.ndarray es incluso más rápido que list debido al hecho de que es [una matriz homogénea de elementos de tamaño fijo](https://docs.scipy.org/doc/numpy/reference/generated/numpy.ndarray.html#numpy.ndarray), por lo que puede obtener los beneficios de la [localidad de referencia](https://en.wikipedia.org/wiki/Locality_of_reference), mientras que list es una matriz de punteros a objetos, incluso cuando todos ellos son del mismo tipo.\n",
        "\n",
        "Aquí, vamos a implementar un búfer de reproducción utilizando numpy.ndarray.\n",
        "\n",
        "Reference:\n",
        "- [OpenAI spinning-up](https://github.com/openai/spinningup/blob/master/spinup/algos/sac/sac.py#L10)\n",
        "- [rainbow-is-all-you-need](https://render.githubusercontent.com/view/ipynb?commit=032d11277cf2436853478a69ca5a4aba03202598&enc_url=68747470733a2f2f7261772e67697468756275736572636f6e74656e742e636f6d2f437572742d5061726b2f7261696e626f772d69732d616c6c2d796f752d6e6565642f303332643131323737636632343336383533343738613639636135613461626130333230323539382f30312e64716e2e6970796e62&nwo=Curt-Park%2Frainbow-is-all-you-need&path=01.dqn.ipynb&repository_id=191133946&repository_type=Repository#Replay-buffer)"
      ],
      "metadata": {
        "id": "Oql_-ICHjabh"
      }
    },
    {
      "cell_type": "code",
      "source": [
        "class ReplayBuffer:\n",
        "    \"\"\"A simple numpy replay buffer.\"\"\"\n",
        "\n",
        "    def __init__(self, obs_dim: int, act_dim: int, size: int, batch_size: int = 32):\n",
        "        \"\"\"Initializate.\"\"\"\n",
        "        self.obs_buf = np.zeros([size, obs_dim], dtype=np.float32)\n",
        "        self.next_obs_buf = np.zeros([size, obs_dim], dtype=np.float32)\n",
        "        self.acts_buf = np.zeros([size, act_dim], dtype=np.float32)\n",
        "        self.rews_buf = np.zeros([size], dtype=np.float32)\n",
        "        self.done_buf = np.zeros([size], dtype=np.float32)\n",
        "        self.max_size, self.batch_size = size, batch_size\n",
        "        self.ptr, self.size = 0, 0\n",
        "\n",
        "    def store(\n",
        "        self,\n",
        "        obs: np.ndarray,\n",
        "        act: np.ndarray,\n",
        "        rew: float,\n",
        "        next_obs: np.ndarray,\n",
        "        done: bool,\n",
        "    ):\n",
        "        \"\"\"Store the transition in buffer.\"\"\"\n",
        "        self.obs_buf[self.ptr] = obs\n",
        "        self.next_obs_buf[self.ptr] = next_obs\n",
        "        self.acts_buf[self.ptr] = act\n",
        "        self.rews_buf[self.ptr] = rew\n",
        "        self.done_buf[self.ptr] = done\n",
        "        self.ptr = (self.ptr + 1) % self.max_size\n",
        "        self.size = min(self.size + 1, self.max_size)\n",
        "\n",
        "    def sample_batch(self) -> Dict[str, np.ndarray]:\n",
        "        \"\"\"Randomly sample a batch of experiences from memory.\"\"\"\n",
        "        idxs = np.random.choice(self.size, size=self.batch_size, replace=False)\n",
        "        return dict(\n",
        "            obs=self.obs_buf[idxs],\n",
        "            next_obs=self.next_obs_buf[idxs],\n",
        "            acts=self.acts_buf[idxs],\n",
        "            rews=self.rews_buf[idxs],\n",
        "            done=self.done_buf[idxs],\n",
        "        )\n",
        "\n",
        "    def __len__(self) -> int:\n",
        "        return self.size"
      ],
      "metadata": {
        "id": "l_ocBKW7wbjp"
      },
      "execution_count": null,
      "outputs": []
    },
    {
      "cell_type": "markdown",
      "source": [
        "## Ruido de OU\n",
        "El proceso **Ornstein-Uhlenbeck** genera una exploración correlacionada temporalmente y se enfrenta de manera eficaz a los problemas de control físico de la inercia.\n",
        "\n",
        "$$\n",
        "dx_t = \\theta(\\mu - x_t) dt + \\sigma dW_t\n",
        "$$\n",
        "\n",
        "Referencia:\n",
        "- [Udacity github](https://github.com/udacity/deep-reinforcement-learning/blob/master/ddpg-pendulum/ddpg_agent.py)\n",
        "- [Wiki](https://en.wikipedia.org/wiki/Ornstein%E2%80%93Uhlenbeck_process)"
      ],
      "metadata": {
        "id": "ucY0SFrPxMn2"
      }
    },
    {
      "cell_type": "code",
      "source": [
        "class OUNoise:\n",
        "    \"\"\"Ornstein-Uhlenbeck process.\n",
        "    Taken from Udacity deep-reinforcement-learning github repository:\n",
        "    https://github.com/udacity/deep-reinforcement-learning/blob/master/\n",
        "    ddpg-pendulum/ddpg_agent.py\n",
        "    \"\"\"\n",
        "\n",
        "    def __init__(self, size: int, mu: float = 0.0, theta: float = 0.15, sigma: float = 0.2):\n",
        "        \"\"\"Initialize parameters and noise process.\"\"\"\n",
        "        self.state = np.float64(0.0)\n",
        "        self.mu = mu * np.ones(size)\n",
        "        self.theta = theta\n",
        "        self.sigma = sigma\n",
        "        self.reset()\n",
        "\n",
        "    def reset(self):\n",
        "        \"\"\"Reset the internal state (= noise) to mean (mu).\"\"\"\n",
        "        self.state = copy.copy(self.mu)\n",
        "\n",
        "    def sample(self) -> np.ndarray:\n",
        "        \"\"\"Update internal state and return it as a noise sample.\"\"\"\n",
        "        x = self.state\n",
        "        dx = self.theta * (self.mu - x) + self.sigma * np.array(\n",
        "            [random.random() for _ in range(len(x))]\n",
        "        )\n",
        "        self.state = x + dx\n",
        "        return self.state"
      ],
      "metadata": {
        "id": "mZHFRSEYwbpk"
      },
      "execution_count": null,
      "outputs": []
    },
    {
      "cell_type": "markdown",
      "source": [
        "# **Red**\n",
        "\n",
        "Vamos a utilizar dos redes separadas para el actor y el crítico.\n",
        "\n",
        "La red del actor tiene tres capas completamente conectadas y tres funciones de no linealidad, ReLU para las capas ocultas y tanh para la capa de salida.\n",
        "\n",
        "Por otro lado, la red del crítico tiene tres capas completamente conectadas, pero utiliza dos funciones de activación para las capas ocultas ReLU. Además, los tamaños de entrada de la red del crítico son la suma de los tamaños de los estados y los tamaños de las acciones.\n",
        "\n",
        "Una cosa a tener en cuenta es que inicializamos los pesos y sesgos de la capa final para que se distribuyan de manera uniforme."
      ],
      "metadata": {
        "id": "ObitCDZ-04GW"
      }
    },
    {
      "cell_type": "code",
      "source": [
        "HIDDEN_LAYERS_ACTOR = 128\n",
        "HIDDEN_LAYERS_CRITIC = 256\n",
        "class Actor(nn.Module):\n",
        "    def __init__(self, in_dim: int, out_dim: int, init_w: float = 3e-3):\n",
        "        \"\"\"Initialize.\"\"\"\n",
        "        super(Actor, self).__init__()\n",
        "\n",
        "        self.bn1 = nn.LayerNorm(HIDDEN_LAYERS_ACTOR)\n",
        "        self.bn2 = nn.LayerNorm(HIDDEN_LAYERS_ACTOR)\n",
        "\n",
        "        self.hidden1 = nn.Linear(in_dim, 128)\n",
        "        self.hidden2 = nn.Linear(128, 128)\n",
        "        self.out = nn.Linear(128, out_dim)\n",
        "\n",
        "        self.out.weight.data.uniform_(-init_w, init_w)\n",
        "        self.out.bias.data.uniform_(-init_w, init_w)\n",
        "\n",
        "    def forward(self, state: torch.Tensor) -> torch.Tensor:\n",
        "        \"\"\"Forward method implementation.\"\"\"\n",
        "        x = F.relu (self.bn1(self.hidden1(state)))#\n",
        "        x = F.relu(self.bn2(self.hidden2(x)))#\n",
        "\n",
        "\n",
        "        action = self.out(x).tanh()\n",
        "\n",
        "        return action\n",
        "\n",
        "\n",
        "class Critic(nn.Module):\n",
        "    def __init__(\n",
        "        self,\n",
        "        in_dim: int,\n",
        "        init_w: float = 3e-3,\n",
        "    ):\n",
        "        \"\"\"Initialize.\"\"\"\n",
        "        super(Critic, self).__init__()\n",
        "\n",
        "        self.bn1 = nn.BatchNorm1d(HIDDEN_LAYERS_CRITIC)\n",
        "        self.bn2 = nn.BatchNorm1d(HIDDEN_LAYERS_CRITIC)\n",
        "\n",
        "        self.hidden1 = nn.Linear(in_dim, 256)\n",
        "        self.hidden2 = nn.Linear(256, 256)\n",
        "        self.out = nn.Linear(256, 1)\n",
        "\n",
        "        self.out.weight.data.uniform_(-init_w, init_w)\n",
        "        self.out.bias.data.uniform_(-init_w, init_w)\n",
        "\n",
        "    def forward(self, state: torch.Tensor, action: torch.Tensor) -> torch.Tensor:\n",
        "        \"\"\"Forward method implementation.\"\"\"\n",
        "        x = torch.cat((state, action), dim=-1)\n",
        "        x = F.relu(self.bn1(self.hidden1(x)))\n",
        "        x = F.relu(self.bn2(self.hidden2(x)))\n",
        "\n",
        "\n",
        "        value = self.out(x)\n",
        "\n",
        "        return value"
      ],
      "metadata": {
        "id": "fZ3wj4BFwbu3"
      },
      "execution_count": null,
      "outputs": []
    },
    {
      "cell_type": "markdown",
      "source": [
        "## Agente DDPG\n",
        "## A continuación se incluye un resumen de la clase DDPGAgent.\n",
        "\n",
        "| Método | Nota |\n",
        "|--- |--- |\n",
        "|select_action | selecciona una acción del estado de entrada. |\n",
        "|step | realiza una acción y devuelve la respuesta del entorno. |\n",
        "|update_model | actualiza el modelo por descenso de gradiente. |\n",
        "|train | entrena al agente durante num_frames. |\n",
        "|test | prueba al agente (1 episodio). |\n",
        "|\\_target_soft_update| actualización suave del modelo local al modelo de destino.|\n",
        "|\\_plot | traza el progreso del entrenamiento. |"
      ],
      "metadata": {
        "id": "CNUe0vEl_NtU"
      }
    },
    {
      "cell_type": "code",
      "source": [
        "class DDPGAgent:\n",
        "    \"\"\"DDPGAgent interacting with environment.\n",
        "\n",
        "    Attribute:\n",
        "        env (gym.Env): openAI Gym environment\n",
        "        actor (nn.Module): target actor model to select actions\n",
        "        actor_target (nn.Module): actor model to predict next actions\n",
        "        actor_optimizer (Optimizer): optimizer for training actor\n",
        "        critic (nn.Module): critic model to predict state values\n",
        "        critic_target (nn.Module): target critic model to predict state values\n",
        "        critic_optimizer (Optimizer): optimizer for training critic\n",
        "        memory (ReplayBuffer): replay memory to store transitions\n",
        "        batch_size (int): batch size for sampling\n",
        "        gamma (float): discount factor\n",
        "        tau (float): parameter for soft target update\n",
        "        initial_random_steps (int): initial random action steps\n",
        "        noise (OUNoise): noise generator for exploration\n",
        "        device (torch.device): cpu / gpu\n",
        "        transition (list): temporary storage for the recent transition\n",
        "        total_step (int): total step numbers\n",
        "        is_test (bool): flag to show the current mode (train / test)\n",
        "        seed (int): random seed\n",
        "    \"\"\"\n",
        "\n",
        "    def __init__(\n",
        "        self,\n",
        "        env: gym.Env,\n",
        "        memory_size: int,\n",
        "        batch_size: int,\n",
        "        ou_noise_theta: float,\n",
        "        ou_noise_sigma: float,\n",
        "        gamma: float = 0.99,\n",
        "        tau: float = 5e-3,\n",
        "        initial_random_steps: int = 1e4,\n",
        "        seed: int = 777,\n",
        "    ):\n",
        "        \"\"\"Initialize.\"\"\"\n",
        "        obs_dim = env.observation_space.shape[0]\n",
        "        action_dim =env.action_space.shape[0]\n",
        "\n",
        "        self.env = env\n",
        "        self.memory = ReplayBuffer(obs_dim, action_dim, memory_size, batch_size)\n",
        "        self.batch_size = batch_size\n",
        "        self.gamma = gamma\n",
        "        self.tau = tau\n",
        "        self.initial_random_steps = initial_random_steps\n",
        "        self.seed = seed\n",
        "\n",
        "        # noise\n",
        "        self.noise = OUNoise(\n",
        "            action_dim,\n",
        "            theta=ou_noise_theta,\n",
        "            sigma=ou_noise_sigma,\n",
        "        )\n",
        "\n",
        "        # device: cpu / gpu\n",
        "        self.device = torch.device(\"cuda\" if torch.cuda.is_available() else \"cpu\")\n",
        "        print(self.device)\n",
        "\n",
        "        # networks\n",
        "        self.actor = Actor(obs_dim, action_dim).to(self.device)\n",
        "        self.actor_target = Actor(obs_dim, action_dim).to(self.device)\n",
        "        self.actor_target.load_state_dict(self.actor.state_dict())\n",
        "\n",
        "        self.critic = Critic(obs_dim + action_dim).to(self.device)\n",
        "        self.critic_target = Critic(obs_dim + action_dim).to(self.device)\n",
        "        self.critic_target.load_state_dict(self.critic.state_dict())\n",
        "\n",
        "        # optimizer\n",
        "        self.actor_optimizer = optim.Adam(self.actor.parameters(), lr=3e-4)\n",
        "        self.critic_optimizer = optim.Adam(self.critic.parameters(), lr=1e-3)\n",
        "\n",
        "        # transition to store in memory\n",
        "        self.transition = list()\n",
        "\n",
        "        # total steps count\n",
        "        self.total_step = 0\n",
        "\n",
        "        # mode: train / test\n",
        "        self.is_test = False\n",
        "\n",
        "    def select_action(self, state: np.ndarray) -> np.ndarray:\n",
        "        \"\"\"Select an action from the input state.\"\"\"\n",
        "        # if initial random action should be conducted\n",
        "        if self.total_step < self.initial_random_steps and not self.is_test:\n",
        "            selected_action = self.env.action_space.sample()\n",
        "        else:\n",
        "            selected_action = (\n",
        "                self.actor(torch.FloatTensor(state).to(self.device)).detach().cpu().numpy()\n",
        "            )\n",
        "\n",
        "        # add noise for exploration during training\n",
        "        if not self.is_test:\n",
        "            noise = self.noise.sample()\n",
        "            selected_action = np.clip(selected_action + noise, -1.0, 1.0)\n",
        "\n",
        "        self.transition = [state, selected_action]\n",
        "\n",
        "        return selected_action\n",
        "\n",
        "    def step(self, action: np.ndarray) -> Tuple[np.ndarray, np.float64, bool]:\n",
        "        \"\"\"Take an action and return the response of the env.\"\"\"\n",
        "        next_state, reward, terminated, truncated, _ = self.env.step(action)\n",
        "        done = terminated or truncated\n",
        "\n",
        "        if not self.is_test:\n",
        "            self.transition += [reward, next_state, done]\n",
        "            self.memory.store(*self.transition)\n",
        "\n",
        "        return next_state, reward, done\n",
        "\n",
        "    def update_model(self) -> torch.Tensor:\n",
        "        \"\"\"Update the model by gradient descent.\"\"\"\n",
        "        device = self.device  # for shortening the following lines\n",
        "\n",
        "        samples = self.memory.sample_batch()\n",
        "        state = torch.FloatTensor(samples[\"obs\"]).to(device)\n",
        "        next_state = torch.FloatTensor(samples[\"next_obs\"]).to(device)\n",
        "        action = torch.FloatTensor(samples[\"acts\"]).to(device)\n",
        "        reward = torch.FloatTensor(samples[\"rews\"].reshape(-1, 1)).to(device)\n",
        "        done = torch.FloatTensor(samples[\"done\"].reshape(-1, 1)).to(device)\n",
        "\n",
        "        masks = 1 - done\n",
        "        next_action = self.actor_target(next_state)\n",
        "        next_value = self.critic_target(next_state, next_action)\n",
        "        curr_return = reward + self.gamma * next_value * masks\n",
        "\n",
        "        # train critic\n",
        "        values = self.critic(state, action)\n",
        "        critic_loss = F.mse_loss(values, curr_return)\n",
        "\n",
        "        self.critic_optimizer.zero_grad()\n",
        "        critic_loss.backward()\n",
        "        self.critic_optimizer.step()\n",
        "\n",
        "        # train actor\n",
        "        actor_loss = -self.critic(state, self.actor(state)).mean()\n",
        "\n",
        "        self.actor_optimizer.zero_grad()\n",
        "        actor_loss.backward()\n",
        "        self.actor_optimizer.step()\n",
        "\n",
        "        # target update\n",
        "        self._target_soft_update()\n",
        "\n",
        "        return actor_loss.data, critic_loss.data\n",
        "\n",
        "    def train(self, num_frames: int, plotting_interval: int = 200):\n",
        "        \"\"\"Train the agent.\"\"\"\n",
        "        self.is_test = False\n",
        "\n",
        "        state, _ = self.env.reset(seed=self.seed)\n",
        "        actor_losses = []\n",
        "        critic_losses = []\n",
        "        scores = []\n",
        "        score = 0\n",
        "\n",
        "        for self.total_step in range(1, num_frames + 1):\n",
        "            action = self.select_action(state)\n",
        "            next_state, reward, done = self.step(action)\n",
        "\n",
        "            state = next_state\n",
        "            score += reward\n",
        "\n",
        "            # if episode ends\n",
        "            if done:\n",
        "                state, _ = self.env.reset(seed=self.seed)\n",
        "                scores.append(score)\n",
        "                score = 0\n",
        "\n",
        "            # if training is ready\n",
        "            if len(self.memory) >= self.batch_size and self.total_step > self.initial_random_steps:\n",
        "                actor_loss, critic_loss = self.update_model()\n",
        "                actor_losses.append(actor_loss.cpu().numpy())\n",
        "                critic_losses.append(critic_loss.cpu().numpy())\n",
        "\n",
        "            # plotting\n",
        "            if self.total_step % plotting_interval == 0:\n",
        "                self._plot(\n",
        "                    self.total_step,\n",
        "                    scores,\n",
        "                    actor_losses,\n",
        "                    critic_losses,\n",
        "                )\n",
        "\n",
        "        self.env.close()\n",
        "\n",
        "    def test(self, video_folder: str):\n",
        "        \"\"\"Test the agent.\"\"\"\n",
        "        self.is_test = True\n",
        "\n",
        "        tmp_env = self.env\n",
        "        self.env = gym.wrappers.RecordVideo(self.env, video_folder=video_folder)\n",
        "\n",
        "        state, _ = self.env.reset(seed=self.seed)\n",
        "        done = False\n",
        "        score = 0\n",
        "\n",
        "        while not done:\n",
        "            action = self.select_action(state)\n",
        "            next_state, reward, done = self.step(action)\n",
        "\n",
        "            state = next_state\n",
        "            score += reward\n",
        "\n",
        "        print(\"score: \", score)\n",
        "        self.env.close()\n",
        "\n",
        "        self.env = tmp_env\n",
        "\n",
        "    def _target_soft_update(self):\n",
        "        \"\"\"Soft-update: target = tau*local + (1-tau)*target.\"\"\"\n",
        "        tau = self.tau\n",
        "\n",
        "        for t_param, l_param in zip(self.actor_target.parameters(), self.actor.parameters()):\n",
        "            t_param.data.copy_(tau * l_param.data + (1.0 - tau) * t_param.data)\n",
        "\n",
        "        for t_param, l_param in zip(self.critic_target.parameters(), self.critic.parameters()):\n",
        "            t_param.data.copy_(tau * l_param.data + (1.0 - tau) * t_param.data)\n",
        "\n",
        "    def _plot(\n",
        "        self,\n",
        "        frame_idx: int,\n",
        "        scores: List[float],\n",
        "        actor_losses: List[float],\n",
        "        critic_losses: List[float],\n",
        "    ):\n",
        "        \"\"\"Plot the training progresses.\"\"\"\n",
        "\n",
        "        def subplot(loc: int, title: str, values: List[float]):\n",
        "            plt.subplot(loc)\n",
        "            plt.title(title)\n",
        "            plt.plot(values)\n",
        "\n",
        "        subplot_params = [\n",
        "            (131, f\"frame {frame_idx}. score: {np.mean(scores[-10:])}\", scores),\n",
        "            (132, \"actor_loss\", actor_losses),\n",
        "            (133, \"critic_loss\", critic_losses),\n",
        "        ]\n",
        "\n",
        "        clear_output(True)\n",
        "        plt.figure(figsize=(30, 5))\n",
        "        for loc, title, values in subplot_params:\n",
        "            subplot(loc, title, values)\n",
        "        plt.show()"
      ],
      "metadata": {
        "id": "uyKTJnmgwb1H"
      },
      "execution_count": null,
      "outputs": []
    },
    {
      "cell_type": "markdown",
      "source": [
        "## Entorno\n",
        "*ActionNormalizer* es una clase contenedora de acciones para normalizar los valores de las acciones dentro del rango (-1, 1). Gracias a esta clase, podemos hacer que el agente simplemente seleccione valores de acción dentro del rango centrado en cero (-1, 1)."
      ],
      "metadata": {
        "id": "RfDFXbrPVbRQ"
      }
    },
    {
      "cell_type": "code",
      "source": [
        "class ActionNormalizer(gym.ActionWrapper):\n",
        "    \"\"\"Rescale and relocate the actions.\"\"\"\n",
        "\n",
        "    def action(self, action: np.ndarray) -> np.ndarray:\n",
        "        \"\"\"Change the range (-1, 1) to (low, high).\"\"\"\n",
        "        low = self.action_space.low\n",
        "        high = self.action_space.high\n",
        "\n",
        "        scale_factor = (high - low) / 2\n",
        "        reloc_factor = high - scale_factor\n",
        "\n",
        "        action = action * scale_factor + reloc_factor\n",
        "        action = np.clip(action, low, high)\n",
        "\n",
        "        return action\n",
        "\n",
        "    def reverse_action(self, action: np.ndarray) -> np.ndarray:\n",
        "        \"\"\"Change the range (low, high) to (-1, 1).\"\"\"\n",
        "        low = self.action_space.low\n",
        "        high = self.action_space.high\n",
        "\n",
        "        scale_factor = (high - low) / 2\n",
        "        reloc_factor = high - scale_factor\n",
        "\n",
        "        action = (action - reloc_factor) / scale_factor\n",
        "        action = np.clip(action, -1.0, 1.0)\n",
        "\n",
        "        return action"
      ],
      "metadata": {
        "id": "yROblQoXwb4-"
      },
      "execution_count": null,
      "outputs": []
    },
    {
      "cell_type": "markdown",
      "source": [
        "Se puede ver [el link](https://gymnasium.farama.org/environments/classic_control/mountain_car_continuous/) de MountainCarContinuous-v0 desde el repositorio de Gym.\n"
      ],
      "metadata": {
        "id": "5WnsnAsqXsG9"
      }
    },
    {
      "cell_type": "code",
      "source": [
        "env = gym.make(\"MountainCarContinuous-v0\", render_mode=\"rgb_array\")\n",
        "#env = ActionNormalizer(env)"
      ],
      "metadata": {
        "id": "JASBHm0odh5h"
      },
      "execution_count": null,
      "outputs": []
    },
    {
      "cell_type": "markdown",
      "source": [
        "En este caso se utiliza BatchNorm1d (https://pytorch.org/docs/stable/generated/torch.nn.BatchNorm1d.html) la cual aplica normalización por lotes sobre una entrada 2D o 3D. (Incluido tanto en Actor y Critic)"
      ],
      "metadata": {
        "id": "bXzmv9K-oCss"
      }
    },
    {
      "cell_type": "code",
      "source": [
        "state_dim = env.observation_space.shape[0]\n",
        "action_dim = env.action_space.shape[0]\n",
        "max_action = float(env.action_space.high[0])\n",
        "state_dim, action_dim, max_action"
      ],
      "metadata": {
        "colab": {
          "base_uri": "https://localhost:8080/"
        },
        "id": "sxvDe_su3uA4",
        "outputId": "509f2b65-04fc-4100-c6f3-d257196dbf45"
      },
      "execution_count": null,
      "outputs": [
        {
          "output_type": "execute_result",
          "data": {
            "text/plain": [
              "(2, 1, 1.0)"
            ]
          },
          "metadata": {},
          "execution_count": 13
        }
      ]
    },
    {
      "cell_type": "markdown",
      "source": [
        "Establecer semilla aleatoria"
      ],
      "metadata": {
        "id": "BL1QMRB-YK8g"
      }
    },
    {
      "cell_type": "code",
      "source": [
        "def seed_torch(seed):\n",
        "    torch.manual_seed(seed)\n",
        "    if torch.backends.cudnn.enabled:\n",
        "        torch.backends.cudnn.benchmark = False\n",
        "        torch.backends.cudnn.deterministic = True\n",
        "\n",
        "\n",
        "seed = 777\n",
        "random.seed(seed)\n",
        "np.random.seed(seed)\n",
        "seed_torch(seed)"
      ],
      "metadata": {
        "id": "HTCmewkdwcCM"
      },
      "execution_count": null,
      "outputs": []
    },
    {
      "cell_type": "code",
      "source": [
        "# parameters\n",
        "num_frames =40000\n",
        "memory_size = 100000\n",
        "batch_size = 128\n",
        "ou_noise_theta = 1.0\n",
        "ou_noise_sigma = 0.1\n",
        "initial_random_steps = 10000\n",
        "\n",
        "agent = DDPGAgent(\n",
        "    env,\n",
        "    memory_size,\n",
        "    batch_size,\n",
        "    ou_noise_theta,\n",
        "    ou_noise_sigma,\n",
        "    initial_random_steps=initial_random_steps,\n",
        "    seed=seed,\n",
        ")"
      ],
      "metadata": {
        "colab": {
          "base_uri": "https://localhost:8080/"
        },
        "id": "l3PkXJcRwcGr",
        "outputId": "42901d31-91b6-4090-ce2d-4ae8ec0e1250"
      },
      "execution_count": null,
      "outputs": [
        {
          "output_type": "stream",
          "name": "stdout",
          "text": [
            "cuda\n"
          ]
        }
      ]
    },
    {
      "cell_type": "markdown",
      "source": [
        "Train"
      ],
      "metadata": {
        "id": "XWTJDhosxig-"
      }
    },
    {
      "cell_type": "code",
      "source": [
        "agent.train(num_frames)#"
      ],
      "metadata": {
        "colab": {
          "base_uri": "https://localhost:8080/",
          "height": 259
        },
        "id": "ciHo7pvswBPh",
        "outputId": "6a3f9b64-7808-48d0-bcd0-29674855d550"
      },
      "execution_count": null,
      "outputs": [
        {
          "output_type": "display_data",
          "data": {
            "text/plain": [
              "<Figure size 3000x500 with 3 Axes>"
            ],
            "image/png": "[encoded data removed]"
          },
          "metadata": {}
        }
      ]
    },
    {
      "cell_type": "markdown",
      "source": [
        "Test"
      ],
      "metadata": {
        "id": "uIIZn34TxuE6"
      }
    },
    {
      "cell_type": "code",
      "source": [
        "# test\n",
        "video_folder = \"videos/ddpg\"\n",
        "agent.test(video_folder=video_folder)"
      ],
      "metadata": {
        "colab": {
          "base_uri": "https://localhost:8080/"
        },
        "id": "0lzDrvpwwBXN",
        "outputId": "80e5e01a-c423-4054-d772-edcb0449cec5"
      },
      "execution_count": null,
      "outputs": [
        {
          "output_type": "stream",
          "name": "stdout",
          "text": [
            "score:  89.01189671919508\n"
          ]
        }
      ]
    },
    {
      "cell_type": "markdown",
      "source": [
        "Render"
      ],
      "metadata": {
        "id": "57uvxUIix1m3"
      }
    },
    {
      "cell_type": "code",
      "source": [
        "import base64\n",
        "import glob\n",
        "import io\n",
        "import os\n",
        "\n",
        "from IPython.display import HTML, display\n",
        "\n",
        "\n",
        "def ipython_show_video(path: str) -> None:\n",
        "    \"\"\"Show a video at `path` within IPython Notebook.\"\"\"\n",
        "    if not os.path.isfile(path):\n",
        "        raise NameError(\"Cannot access: {}\".format(path))\n",
        "\n",
        "    video = io.open(path, \"r+b\").read()\n",
        "    encoded = base64.b64encode(video)\n",
        "\n",
        "    display(\n",
        "        HTML(\n",
        "            data=\"\"\"\n",
        "        <video width=\"320\" height=\"240\" alt=\"test\" controls>\n",
        "        <source src=\"data:video/mp4;base64,{0}\" type=\"video/mp4\"/>\n",
        "        </video>\n",
        "        \"\"\".format(\n",
        "                encoded.decode(\"ascii\")\n",
        "            )\n",
        "        )\n",
        "    )\n",
        "\n",
        "\n",
        "def show_latest_video(video_folder: str) -> str:\n",
        "    \"\"\"Show the most recently recorded video from video folder.\"\"\"\n",
        "    list_of_files = glob.glob(os.path.join(video_folder, \"*.mp4\"))#\"*.mp4\"\n",
        "    latest_file = max(list_of_files, key=os.path.getctime)\n",
        "    ipython_show_video(latest_file)\n",
        "    return latest_file\n",
        "\n",
        "\n",
        "latest_file = show_latest_video(video_folder=video_folder)\n",
        "print(\"Played:\", latest_file)"
      ],
      "metadata": {
        "colab": {
          "base_uri": "https://localhost:8080/",
          "height": 279
        },
        "id": "oPBRPU_TwBcW",
        "outputId": "8b870b56-a303-4be4-8321-962e35ed30d3"
      },
      "execution_count": null,
      "outputs": [
        {
          "output_type": "display_data",
          "data": {
            "text/plain": [
              "<IPython.core.display.HTML object>"
            ],
            "text/html": [
              "\n",
              "        <video width=\"320\" height=\"240\" alt=\"test\" controls>\n",
              "        <source src=\"data:video/mp4;base64,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\" type=\"video/mp4\"/>\n",
              "        </video>\n",
              "        "
            ]
          },
          "metadata": {}
        },
        {
          "output_type": "stream",
          "name": "stdout",
          "text": [
            "Played: videos/ddpg/rl-video-episode-0.mp4\n"
          ]
        }
      ]
    }
  ]
}